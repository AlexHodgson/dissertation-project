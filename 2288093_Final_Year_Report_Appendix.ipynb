{
  "nbformat": 4,
  "nbformat_minor": 0,
  "metadata": {
    "colab": {
      "name": "2288093 Final Year Report Appendix.ipynb",
      "provenance": [],
      "collapsed_sections": [],
      "toc_visible": true
    },
    "kernelspec": {
      "name": "python3",
      "display_name": "Python 3"
    }
  },
  "cells": [
    {
      "cell_type": "markdown",
      "metadata": {
        "id": "335m1PoUglgh",
        "colab_type": "text"
      },
      "source": [
        "# Import Packages"
      ]
    },
    {
      "cell_type": "code",
      "metadata": {
        "id": "2lpWYDq9gptp",
        "colab_type": "code",
        "colab": {
          "base_uri": "https://localhost:8080/",
          "height": 697
        },
        "outputId": "676bb174-eb71-4447-9907-85c1b2c329f6"
      },
      "source": [
        "#For collision kinematics\n",
        "!pip install scikit-hep\n",
        "#High energy physics machine learning\n",
        "!pip install hep_ml"
      ],
      "execution_count": null,
      "outputs": [
        {
          "output_type": "stream",
          "text": [
            "Collecting scikit-hep\n",
            "\u001b[?25l  Downloading https://files.pythonhosted.org/packages/63/79/0a40f9ac1e4c6320a832f0084db94ab9862a4da4f066d09ad665b2dcf994/scikit-hep-0.5.1.tar.gz (680kB)\n",
            "\u001b[K     |████████████████████████████████| 686kB 2.8MB/s \n",
            "\u001b[?25hCollecting hepunits\n",
            "  Downloading https://files.pythonhosted.org/packages/18/96/32e4cc8b0603b94dc353a3f047d3d68a834163caec00eb510ad9d6e5e1e7/hepunits-1.1.1-py2.py3-none-any.whl\n",
            "Requirement already satisfied: numpy>=1.11.0 in /usr/local/lib/python3.6/dist-packages (from scikit-hep) (1.18.2)\n",
            "Requirement already satisfied: pandas in /usr/local/lib/python3.6/dist-packages (from scikit-hep) (1.0.3)\n",
            "Requirement already satisfied: matplotlib>2.0.0 in /usr/local/lib/python3.6/dist-packages (from scikit-hep) (3.2.1)\n",
            "Requirement already satisfied: python-dateutil>=2.6.1 in /usr/local/lib/python3.6/dist-packages (from pandas->scikit-hep) (2.8.1)\n",
            "Requirement already satisfied: pytz>=2017.2 in /usr/local/lib/python3.6/dist-packages (from pandas->scikit-hep) (2018.9)\n",
            "Requirement already satisfied: pyparsing!=2.0.4,!=2.1.2,!=2.1.6,>=2.0.1 in /usr/local/lib/python3.6/dist-packages (from matplotlib>2.0.0->scikit-hep) (2.4.6)\n",
            "Requirement already satisfied: cycler>=0.10 in /usr/local/lib/python3.6/dist-packages (from matplotlib>2.0.0->scikit-hep) (0.10.0)\n",
            "Requirement already satisfied: kiwisolver>=1.0.1 in /usr/local/lib/python3.6/dist-packages (from matplotlib>2.0.0->scikit-hep) (1.2.0)\n",
            "Requirement already satisfied: six>=1.5 in /usr/local/lib/python3.6/dist-packages (from python-dateutil>=2.6.1->pandas->scikit-hep) (1.12.0)\n",
            "Building wheels for collected packages: scikit-hep\n",
            "  Building wheel for scikit-hep (setup.py) ... \u001b[?25l\u001b[?25hdone\n",
            "  Created wheel for scikit-hep: filename=scikit_hep-0.5.1-cp36-none-any.whl size=68017 sha256=6fd69282d0799e8c1a62afa8f9c4f0f0e0e40fca5847bb314b3608386b406f68\n",
            "  Stored in directory: /root/.cache/pip/wheels/de/d5/c0/baa055b793de1b5896af90f34054cd00aa0b14e288a034ec79\n",
            "Successfully built scikit-hep\n",
            "Installing collected packages: hepunits, scikit-hep\n",
            "Successfully installed hepunits-1.1.1 scikit-hep-0.5.1\n",
            "Collecting hep_ml\n",
            "\u001b[?25l  Downloading https://files.pythonhosted.org/packages/95/09/d9a6d8ad871a5572706b0bd6de9aebd47158d321c3e6d6c7a235d79e7b2c/hep_ml-0.6.1-py2.py3-none-any.whl (54kB)\n",
            "\u001b[K     |████████████████████████████████| 61kB 2.0MB/s \n",
            "\u001b[?25hRequirement already satisfied: scipy>=0.15.0 in /usr/local/lib/python3.6/dist-packages (from hep_ml) (1.4.1)\n",
            "Requirement already satisfied: pandas>=0.14.0 in /usr/local/lib/python3.6/dist-packages (from hep_ml) (1.0.3)\n",
            "Requirement already satisfied: scikit-learn>=0.19 in /usr/local/lib/python3.6/dist-packages (from hep_ml) (0.22.2.post1)\n",
            "Requirement already satisfied: numpy>=1.9 in /usr/local/lib/python3.6/dist-packages (from hep_ml) (1.18.2)\n",
            "Requirement already satisfied: six in /usr/local/lib/python3.6/dist-packages (from hep_ml) (1.12.0)\n",
            "Requirement already satisfied: theano>=1.0.2 in /usr/local/lib/python3.6/dist-packages (from hep_ml) (1.0.4)\n",
            "Requirement already satisfied: python-dateutil>=2.6.1 in /usr/local/lib/python3.6/dist-packages (from pandas>=0.14.0->hep_ml) (2.8.1)\n",
            "Requirement already satisfied: pytz>=2017.2 in /usr/local/lib/python3.6/dist-packages (from pandas>=0.14.0->hep_ml) (2018.9)\n",
            "Requirement already satisfied: joblib>=0.11 in /usr/local/lib/python3.6/dist-packages (from scikit-learn>=0.19->hep_ml) (0.14.1)\n",
            "Installing collected packages: hep-ml\n",
            "Successfully installed hep-ml-0.6.1\n"
          ],
          "name": "stdout"
        }
      ]
    },
    {
      "cell_type": "code",
      "metadata": {
        "id": "heXqoyG6gsf2",
        "colab_type": "code",
        "colab": {
          "base_uri": "https://localhost:8080/",
          "height": 131
        },
        "outputId": "c2c1da98-0d2d-4987-a21e-927adf01a963"
      },
      "source": [
        "import numpy as np\n",
        "import pandas as pd\n",
        "import math\n",
        "import random\n",
        "import time\n",
        "import matplotlib.pyplot as plt\n",
        "from skhep.math import *\n",
        "\n",
        "\n",
        "#Model Evaluation\n",
        "from scipy.stats import entropy\n",
        "from scipy.special import rel_entr\n",
        "from sklearn.metrics import roc_curve\n",
        "from sklearn.metrics import roc_auc_score\n",
        "from hep_ml.metrics_utils import ks_2samp_weighted\n",
        "\n",
        "#Machine learning algorithms\n",
        "from sklearn.preprocessing import normalize\n",
        "from sklearn.model_selection import train_test_split\n",
        "from sklearn.ensemble import AdaBoostClassifier\n",
        "from sklearn.neural_network import MLPClassifier\n",
        "from sklearn.linear_model import SGDClassifier\n",
        "from sklearn.tree import DecisionTreeClassifier\n",
        "from hep_ml import reweight\n",
        "\n",
        "#Plot properties\n",
        "plt.rcParams[\"figure.figsize\"] = (10,8)\n",
        "hist_settings = {'bins': 40, 'density': True, 'alpha': 0.7}\n",
        "\n",
        "\n",
        "print(\"Modules Loaded\")"
      ],
      "execution_count": null,
      "outputs": [
        {
          "output_type": "stream",
          "text": [
            "Modules Loaded\n"
          ],
          "name": "stdout"
        },
        {
          "output_type": "stream",
          "text": [
            "/usr/local/lib/python3.6/dist-packages/sklearn/utils/deprecation.py:144: FutureWarning: The sklearn.neighbors.unsupervised module is  deprecated in version 0.22 and will be removed in version 0.24. The corresponding classes / functions should instead be imported from sklearn.neighbors. Anything that cannot be imported from sklearn.neighbors is now part of the private API.\n",
            "  warnings.warn(message, FutureWarning)\n",
            "/usr/local/lib/python3.6/dist-packages/sklearn/utils/deprecation.py:144: FutureWarning: The sklearn.tree.tree module is  deprecated in version 0.22 and will be removed in version 0.24. The corresponding classes / functions should instead be imported from sklearn.tree. Anything that cannot be imported from sklearn.tree is now part of the private API.\n",
            "  warnings.warn(message, FutureWarning)\n"
          ],
          "name": "stderr"
        }
      ]
    },
    {
      "cell_type": "markdown",
      "metadata": {
        "id": "dyJ2zoVYhiVW",
        "colab_type": "text"
      },
      "source": [
        "# Collision Calculation Functions"
      ]
    },
    {
      "cell_type": "code",
      "metadata": {
        "id": "MAiHNL8fhnq5",
        "colab_type": "code",
        "colab": {}
      },
      "source": [
        "def angleGen(numAngles):\n",
        "  '''\n",
        "  Generate a random spead of points on a spherical surface\n",
        "  \n",
        "  numAngles(int): Number of theta/phi pairs to generate\n",
        "\n",
        "  Returns arrays of values for phi and theta\n",
        "  '''\n",
        " \n",
        "  #Angle in xy plane\n",
        "  phiArray = [0]*numAngles\n",
        "  for n in range(numAngles):\n",
        "   phiArray[n] = random.random()*2*math.pi\n",
        "  \n",
        "  #Angle above xy plane\n",
        "  thetaArray = [0]*numAngles\n",
        "  for m in range(numAngles):\n",
        "   thetaArray[m] = math.acos(2*random.random()-1)\n",
        "  \n",
        "  return phiArray,thetaArray\n",
        "\n",
        "\n",
        "def collisionSimulation(collisions,m1,m2,m3,m4,beamEnergy):\n",
        "  '''\n",
        "  Calculates mass and trajectory of new particles after a collision has occured\n",
        "  Two body final state\n",
        "\n",
        "  m1(int): Mass of beam particle\n",
        "  m2(int): Mass of target particle\n",
        "  beamEnergy(int): Beam energy\n",
        "  collisions(DataFrame): phi and theta values for each collision\n",
        "\n",
        "  Returns lab frame LorentzVector for particles 3 and 4\n",
        "\n",
        "  '''\n",
        "  #Calculate centre of momentum velocity and particle momenta in com frame\n",
        "  p1x = math.sqrt(beamEnergy**2 - m1**2)\n",
        "  comVelocity = Vector3D(p1x/(beamEnergy + m2),0,0)\n",
        "  comLorentz = 1/(math.sqrt(1-(comVelocity.x**2)/(1**2)))\n",
        "  comPx1 = comLorentz*(p1x -comVelocity.x*beamEnergy)\n",
        "  comPx2 = -m2*(comVelocity.x/2)*comLorentz\n",
        "\n",
        "\n",
        "  #Particle energies in com frame\n",
        "  comE1 = comLorentz*m1 * 1**2\n",
        "  comE2 = comLorentz*m2 * 1**2\n",
        "\n",
        "\n",
        "  #This Lorentz vector is formatted (x,y,z,t), but works the same as if it was (px,py,pz,E) which is how it is being used here\n",
        "  p1 = LorentzVector(comPx1,0,0,comE1)\n",
        "  p2 = LorentzVector(comPx2,0,0,comE2)\n",
        "\n",
        "\n",
        "  #Energy avaliable to form new particles\n",
        "  invariantMass = p1.dot(p2)\n",
        "\n",
        "\n",
        "  #Create new particles\n",
        "  p3 = LorentzVector()\n",
        "  p4 = LorentzVector() \n",
        "\n",
        "  p3.setpxpypzm(0, 0, 0, m3)\n",
        "  p4.setpxpypzm(0, 0, 0, m4)\n",
        "\n",
        "  #Calculate kinetic energy of new particles\n",
        "  remainingKE = invariantMass - (p3.mass + p4.mass)\n",
        "\n",
        "\n",
        "  #You were naughty and made the masses too big\n",
        "  if remainingKE < 0:\n",
        "    raise Exception(\"New Particle masses too large for given input energy\")\n",
        "\n",
        "\n",
        "  #Split the remaining KE between p3 and p4\n",
        "  comKE3 = remainingKE / (1 + (p3.mass / p4.mass))\n",
        "  comKE4 = remainingKE - comKE3\n",
        "\n",
        "\n",
        "  #Total energy of particle\n",
        "  p3.e = p3.m + comKE3\n",
        "  p4.e = p4.m + comKE4\n",
        "\n",
        "  #Magnitude of momentum, from dispersion relation\n",
        "  magP3 = math.sqrt(p3.e**2 - m3**2) \n",
        "\n",
        "  #Calculate direction of momentum for particle 3\n",
        "  p3.x = magP3 * math.cos(collisions['phi']) * math.sin(collisions['theta'])\n",
        "  p3.y = magP3 * math.sin(collisions['phi']) * math.sin(collisions['theta'])\n",
        "  p3.z = magP3 * math.cos(collisions['theta'])\n",
        "\n",
        "  #Particle 4 momentum will be opposite of p3's\n",
        "  p4.x = -p3.px\n",
        "  p4.y = -p3.py\n",
        "  p4.z = -p3.pz\n",
        "\n",
        "\n",
        "  #Transform new particles into lab frame\n",
        "  #The boost function performs a lorentz boost with the given velocity\n",
        "  labVelocity = Vector3D(-comVelocity.x,0,0)\n",
        "  p3Lab = p3.boost(labVelocity)\n",
        "  p4Lab = p4.boost(labVelocity)\n",
        "\n",
        "  return p3Lab, p4Lab"
      ],
      "execution_count": null,
      "outputs": []
    },
    {
      "cell_type": "code",
      "metadata": {
        "id": "C_6Lr9zJd7dz",
        "colab_type": "code",
        "colab": {}
      },
      "source": [
        "def generateCollisions(count,m1,m2,m3,m4,beamEnergy,momentumSpread,energySpread,minEfficiency,efficiencyFunctionType,detectorCutoff):\n",
        "  '''\n",
        "  Generate a collision data set, for a stationary target collision producing 2 particles\n",
        "  Keep the rest masses and the beam energy the same between an original data set and a target set it corresponds to\n",
        "\n",
        "  count(int): Number of collisions\n",
        "  m1(float): Rest mass of beam particle\n",
        "  m2(float): Rest mass of target particle\n",
        "  m3(float): Rest mass of one particle created in collision\n",
        "  m4(float): Rest mass of other particle created in collision\n",
        "  beamEnergy(float): Energy of particle beam\n",
        "  momentumSpread(float): Standard deviation of gaussian applied to blur momentum values\n",
        "  energySpread(float): Standard deviation of gaussian applied to blur energy values\n",
        "  minEfficiency(float): Efficiency function is a straight line from this value to 1 across the energy range of the particles\n",
        "  detectorCutoff(float): Angle of opening in the detector below which no particles are detected\n",
        "\n",
        "  Returns a data frame with columns 'p3', 'p4', 'p3_momentum', 'p4_momentum','p3_energy','p4_energy','p3_phi', 'p3_theta', 'p4_phi', 'p4_theta'\n",
        "\n",
        "  p3(LorentzVector): Describes one of the particles created in the collision\n",
        "  p4(LorentzVector): Describes the other particle created in the collision\n",
        "'''\n",
        "\n",
        "  #Random spread of angles for particle paths\n",
        "  originalAngles = pd.DataFrame(columns=['phi', 'theta'])\n",
        "  collisions = pd.DataFrame(columns=['p3', 'p4', 'p3_momentum', 'p4_momentum','p3_energy','p4_energy','p3_phi', 'p3_theta', 'p4_phi', 'p4_theta'])\n",
        "  angleArray = np.array(angleGen(count))\n",
        "  originalAngles['phi'] = angleArray[0,:]\n",
        "  originalAngles['theta'] = angleArray[1,:]\n",
        "\n",
        "  #Calculate particle LorentzVectors and store in data frame\n",
        "  trajectories = np.array(originalAngles.apply(collisionSimulation, args=(m1,m2,m3,m4,beamEnergy), axis=1, result_type=\"expand\"))\n",
        "  collisions[\"p3\"] = trajectories[:,0]\n",
        "  collisions[\"p4\"] = trajectories[:,1]\n",
        "\n",
        "  #Add resolution and efficiency effects\n",
        "  collisions['p3'] = resolutionBlur(collisions['p3'],momentumSpread,energySpread)\n",
        "  collisions['p4'] = resolutionBlur(collisions['p4'],momentumSpread,energySpread)\n",
        "  collisions = efficiencyFunction(collisions,minEfficiency,efficiencyFunctionType)\n",
        "\n",
        "  #Store particle properties in the data frame for easier access\n",
        "  collisions['p3_phi'] = collisions[\"p3\"].apply(LorentzVector.phi) \n",
        "  collisions['p3_theta'] = collisions[\"p3\"].apply(LorentzVector.theta)\n",
        "  collisions['p4_phi'] = collisions[\"p4\"].apply(LorentzVector.phi) \n",
        "  collisions['p4_theta'] = collisions[\"p4\"].apply(LorentzVector.theta) \n",
        "  collisions['p3_energy'] = collisions[\"p3\"].apply(getEnergy) \n",
        "  collisions['p4_energy'] = collisions[\"p4\"].apply(getEnergy) \n",
        "  collisions['p3_momentum'] = collisions[\"p3\"].apply(getMag)\n",
        "  collisions['p4_momentum'] = collisions[\"p4\"].apply(getMag)\n",
        "\n",
        "  #Apply Detector geometry function\n",
        "  collisions = detectorGeometry(collisions,0.12)\n",
        "\n",
        "  return(collisions)\n"
      ],
      "execution_count": null,
      "outputs": []
    },
    {
      "cell_type": "markdown",
      "metadata": {
        "id": "GSgE2MDCc9CX",
        "colab_type": "text"
      },
      "source": [
        "# Other Functions"
      ]
    },
    {
      "cell_type": "code",
      "metadata": {
        "id": "bL-wVjudc_Vr",
        "colab_type": "code",
        "colab": {
          "base_uri": "https://localhost:8080/",
          "height": 36
        },
        "outputId": "ed0fe23d-bfc3-4282-bcae-218d74fcb553"
      },
      "source": [
        "#Custom Functions\n",
        "\n",
        "\n",
        "def resolutionBlur(particleMomenta,momentumSpread,energySpread):\n",
        "  '''\n",
        "  Simulate resolution of the detector by blurring the data with a normal distribution\n",
        "\n",
        "  particleMomenta(array of LorentzVectors): initial particle data\n",
        "  spread(float): Standard deviation of the gaussian used on momentum or energy\n",
        "\n",
        "  Returns array of noisy lorentz vectors\n",
        "\n",
        "  Could extend this work on momentum or energy dependant on some parameter\n",
        "\n",
        "  '''\n",
        "  #Generate array of noise values\n",
        "  n = len(particleMomenta)\n",
        "  momenta = np.zeros([n,4])\n",
        "  momentaNoise = np.random.normal(1, momentumSpread, (n,3))\n",
        "  energyNoise = np.random.normal(1, energySpread, (n,1))\n",
        "  noise = np.column_stack((momentaNoise,energyNoise))\n",
        "  \n",
        "  #Store particle momenta\n",
        "  momenta[:,0] = [particle.x for particle in particleMomenta]\n",
        "  momenta[:,1] = [particle.y for particle in particleMomenta]\n",
        "  momenta[:,2] = [particle.z for particle in particleMomenta]\n",
        "  momenta[:,3] = [particle.e for particle in particleMomenta]\n",
        "\n",
        "  #Multiply momenta by noise\n",
        "  noisyMomentaArray = np.multiply(momenta,noise)\n",
        "  noisyMomentaLV = [0]*n\n",
        "  \n",
        "\n",
        "  if len(particleMomenta[0]) == 3:\n",
        "    #Convert back to LorentzVectors and return\n",
        "    for j in range(n):\n",
        "      noisyMomentaLV[j] = LorentzVector(noisyMomentaArray[j][0], noisyMomentaArray[j][1],noisyMomentaArray[j][2])\n",
        "\n",
        "    return noisyMomentaLV\n",
        "\n",
        "  elif len(particleMomenta[0]) == 4:\n",
        "    #Return LorentzVectors\n",
        "    for j in range(n):\n",
        "      noisyMomentaLV[j] = LorentzVector(noisyMomentaArray[j][0], noisyMomentaArray[j][1],noisyMomentaArray[j][2],noisyMomentaArray[j][3])\n",
        "    \n",
        "    return noisyMomentaLV\n",
        "\n",
        "  else:\n",
        "    print(len(particleMomenta[0]))\n",
        "    raise Exception(\"Particle momentum of wrong length\")\n",
        "\n",
        "\n",
        "def efficiencyFunction(particles, minEfficiency,functionType='linear'):\n",
        "  '''\n",
        "  !!Needs to be ran on an unedited data set, won't work if particles has had rows removed!! \n",
        "  Simple linear energy dependent efficiency function, draws a line from 1 to some minimum efficiency as energy decreases, then throws away\n",
        "  a fraction of results at some energy value dependent on the functon's value at that energy\n",
        "\n",
        "  particles(DataFrame) : Particle data\n",
        "  minEfficiency(float) : minimum efficiency of the function (0-1)\n",
        "  functionType(string): 'linear' for a linear efficiency function, 'quadratic' for a quadratic function\n",
        "\n",
        "  Returns data frame with non detected collisions removed\n",
        "  '''\n",
        "\n",
        "  #Check the function will be ok\n",
        "  if minEfficiency > 1:\n",
        "    raise Exception('Minimum efficiency cannot be greater than 1')\n",
        "\n",
        "  p3energies = np.array([particle.e for particle in particles['p3']])\n",
        "  p4energies = np.array([particle.e for particle in particles['p4']])\n",
        "\n",
        "  maxEnergy = np.max([p3energies + p4energies])\n",
        "  \n",
        "\n",
        "  #Define efficiency function\n",
        "  if functionType == 'linear':\n",
        "    effCalc = lambda a : ((1-minEfficiency)/maxEnergy)*a + minEfficiency\n",
        "\n",
        "  elif functionType == 'quadratic':\n",
        "    medianEnergy = np.median([p3energies + p4energies])\n",
        "    effCalc = lambda a : minEfficiency*(a - medianEnergy)**2 + (1 - minEfficiency)\n",
        "\n",
        "  else:\n",
        "\n",
        "    print( functionType + ' is not a valid efficiency function, no function applied')\n",
        "    return particles\n",
        "  \n",
        "  #Calculate the efficiency of the detector at the energy level of each particle, then generate list of random vals from 0-1\n",
        "  p3efficiencies = effCalc(p3energies)\n",
        "  p4efficiencies = effCalc(p4energies)\n",
        "  randomVals = np.random.rand(len(p3energies),2)\n",
        "\n",
        "  #Throw away some of the particles dependent on their probability of detection\n",
        "  dropList = []\n",
        "\n",
        "  for i in range(len(p3energies)):\n",
        "    if p3efficiencies[i] < randomVals[i][0]: # or p4efficiencies[i] < randomVals[i][1]\n",
        "      dropList.append(i)\n",
        "\n",
        "\n",
        "  return particles.drop(dropList)\n",
        "\n",
        "\n",
        "def detectorGeometry(particles, angle):\n",
        "    '''\n",
        "    Model failiure of detector to pick up particles travelling at small angles along beam line\n",
        "\n",
        "    particles(DataFrame) : Particle data\n",
        "    angle(float) : angle in radians subtended by detector opening\n",
        "\n",
        "    Returns data frame with non detected collisions removed\n",
        "    '''\n",
        "\n",
        "    #p3List = particles['p3_theta'].values.tolist()\n",
        "    #p4List = particles['p4_theta'].values.tolist()\n",
        "     \n",
        "    delList = []\n",
        "    for i in particles.index:\n",
        "      if particles.at[i,'p3_theta'] < angle or particles.at[i,'p4_theta'] < angle:\n",
        "        delList.append(i)\n",
        "\n",
        "      elif angle > particles.at[i,'p4_theta']:\n",
        "        delList.append(i)\n",
        "        \n",
        "\n",
        "    return particles.drop(delList)\n",
        "\n",
        "\n",
        "\n",
        "\n",
        "def check_ks_of_expression(expression):\n",
        "    '''\n",
        "  Do KS test on original and reweighted distributions\n",
        "  Draws a bar chart to compare results for different weighting methods\n",
        "\n",
        "  Original version taken from hep-ml package\n",
        "  '''\n",
        "  \n",
        "    col_original = original_test.eval(expression, engine='python')\n",
        "    col_target = target_test.eval(expression, engine='python')\n",
        "    w_target = np.ones(len(col_target), dtype='float')\n",
        "    w_foldingTarget = np.ones(len(targetCollisions['p3_energy']),dtype='float')\n",
        "\n",
        "    \n",
        "\n",
        "    noReweight = ks_2samp_weighted(col_original, col_target, weights1=original_weights_test, weights2=w_target)\n",
        "    binReweight = ks_2samp_weighted(col_original, col_target, weights1=bins_weights_test, weights2=w_target)\n",
        "    gbReweight = ks_2samp_weighted(col_original, col_target, weights1=gb_weights_test, weights2=w_target)\n",
        "    #Folding reweight uses whole dataset, so hardwire in for now\n",
        "    foldingReweight = ks_2samp_weighted(originalCollisions.eval('p3_momentum * p4_momentum * p3_energy * p4_energy * p3_theta * p4_theta'), targetCollisions.eval('p3_momentum * p4_momentum * p3_energy * p4_energy * p3_theta * p4_theta'), weights1=folding_weights, weights2=np.ones(len(targetCollisions['p3_energy']),dtype='float'))\n",
        "\n",
        "\n",
        "    print('No Reweight   KS:', noReweight)\n",
        "    print('Bins Reweight KS:', binReweight)\n",
        "    print('GB Reweight   KS:', gbReweight)\n",
        "    print('Folding Reweight   KS:', foldingReweight)\n",
        "    \n",
        "\n",
        "    plt.bar(['No Weights','Bin Reweighting','GB Weights','Folding Weights','NN Weights', 'Ada NN','lbfgs NN'],[noReweight,binReweight,gbReweight,foldingReweight,neuralReweight,adaReweight,lbfgsReweight],color=['green','blue','blue','blue','red','red','red'])\n",
        "    #plt.bar(['No Reweighting','Bin Reweighting','Gradient Boosted Reweighting','Folding Reweighting'],[noReweight,binReweight,gbReweight,foldingReweight])\n",
        "    #plt.bar(['No Reweighting','Bin Reweighting','Gradient Boosted Reweighting'],[noReweight,binReweight,gbReweight])\n",
        "\n",
        "\n",
        "def getEnergy(particle):\n",
        "  #A function to get energy from a LorentzVector\n",
        "  return particle.e\n",
        "\n",
        "def getMag(particle):\n",
        "  #A function to get magnitude of LorentzVectors\n",
        "  return particle.p\n",
        "\n",
        "#def fillColumns(collisions):\n",
        "  #Fill the data frame columns with the properties of the particle for easier access\n",
        "\n",
        "def extremeEfficiencyFunction(particles, minEfficiency):\n",
        "  '''\n",
        "  !!Needs to be ran on an unedited data set, won't work if particles has had rows removed already!! (Might fix this at some point)\n",
        "\n",
        "  Weird efficiency function to make differences between data sets clearer, has acceptance of 0.1 below the halfway energy value\n",
        "  and acceptance of 0.9 above thaat point\n",
        "\n",
        "  particles(DataFrame) : Particle data\n",
        "  minEfficiency(float) : efficiency intercept of the function\n",
        "\n",
        "  Returns data frame with non detected collisions removed\n",
        "  '''\n",
        "\n",
        "  p3energies = np.array([particle.e for particle in particles['p3']])\n",
        "  p4energies = np.array([particle.e for particle in particles['p4']])\n",
        "\n",
        "  halfEnergy = np.max([p3energies + p4energies])/2\n",
        "  #Detector range from 0 to max energy, calculate probability a value is kept, could do this with a fixed max value\n",
        "  p3efficiencies = np.empty(len(p3energies))\n",
        "  p4efficiencies = np.empty(len(p4energies))\n",
        "  \n",
        "  #effCalc = lambda a : 0.1 if (a < halfEnergy) else 0.9\n",
        "\n",
        "  #Calculate the efficiency of the detector at the energy level of each particle, then generate list of random vals from 0-1\n",
        "  for i in range(len(p3energies)):\n",
        "    if p3energies[i] > halfEnergy:\n",
        "      p3efficiencies[i] = 0.9\n",
        "    else:\n",
        "      p3efficiencies[i] = 0.1\n",
        "\n",
        "  for i in range(len(p4energies)):\n",
        "    if p4energies[i] > halfEnergy:\n",
        "      p4efficiencies[i] = 0.9\n",
        "    else:\n",
        "      p4efficiencies[i] = 0.1\n",
        "\n",
        "  randomVals = np.random.rand(len(p3energies),2)\n",
        "\n",
        "  #Throw away some of the particles dependent on their probability of detection\n",
        "  dropList = []\n",
        "\n",
        "  for i in range(len(p3energies)):\n",
        "    if p3energies[i] < randomVals[i][0] or p4efficiencies[i] < randomVals[i][1]:\n",
        "      dropList.append(i)\n",
        "\n",
        "\n",
        "  return particles.drop(dropList)\n",
        "\n",
        "def kl_divergence(p, q):\n",
        "  #Compare two distributions to see how similar they are using KL Diverence method\n",
        "  #Gives divergence of q from p\n",
        "  #Please normalise before passing to this function\n",
        "  #Could use a function from scipy to do this instead\n",
        "\n",
        "  #From https://towardsdatascience.com/kl-divergence-python-example-b87069e4b810\n",
        "\n",
        "  divergence = 0.0\n",
        "\n",
        "  for i in range(len(p)):\n",
        "    if p[i] != 0 and q[i] != 0:\n",
        "      divergence += p[i] * np.log(p[i] / q[i])\n",
        "  \n",
        "    elif p[i] == 0 and q[i] > 0:\n",
        "      divergence += 0\n",
        "\n",
        "    else:\n",
        "      raise Exception('kl divergence broke')\n",
        "\n",
        "    return np.sum(np.where(p != 0, p * np.log(p / q), 0))\n",
        "\n",
        "def probabilityToWeightAda(probabilities):\n",
        "  '''\n",
        "  Converts the probability that a data point belongs to real data into a weight for that point\n",
        "\n",
        "  probabilities(nx1 array) : Array of neural network probabilities that a data point is real, n is the number of datapoints\n",
        "\n",
        "  Returns nx1 array of weights\n",
        "\n",
        "  Method taken from section 2.2 \n",
        "  https://iopscience.iop.org/article/10.1088/1742-6596/368/1/012028\n",
        "  '''\n",
        "\n",
        "  return(np.exp((1 + probabilities)/(1 - probabilities)))\n",
        "\n",
        "def probabilityToWeight(probabilities):\n",
        "  '''\n",
        "  Converts the probability that a data point belongs to real data into a weight for that point\n",
        "\n",
        "  probabilities(nx1 array) : Array of neural network probabilities that a data point is real, n is the number of datapoints\n",
        "\n",
        "  Returns nx1 array of weights\n",
        "\n",
        "  Method taken from section 2.2 \n",
        "  https://iopscience.iop.org/article/10.1088/1742-6596/368/1/012028\n",
        "  '''\n",
        "\n",
        "  return((1 + probabilities)/(1 - probabilities))\n",
        "\n",
        "\n",
        "def draw_distributions(original, target, new_original_weights, evaluation_method = 'ks'):\n",
        "  #Draws histograms of target data and reweighted monte carlo data\n",
        "  #Evaluation method is 'ks' or 'kl' for Kolmogorov–Smirnov or Kullback-Leibler\n",
        "    plt.figure(figsize=[15,8]) #swap these around\n",
        "    for id, column in enumerate(columns, 1):\n",
        "        xlim = np.percentile(np.hstack([target[column]]), [0.01, 99.99])\n",
        "        plt.subplot(2,3, id) # and these around to change how hists are stacked\n",
        "\n",
        "        #Plot angles in degrees rather than radians\n",
        "        if column == 'p3_theta' or column == 'p4_theta' or column == 'p5_theta' or column == 'p6_theta':\n",
        "          plt.hist(original[column]*(180/math.pi), weights=new_original_weights, range=xlim*(180/math.pi), **hist_settings)\n",
        "          plt.hist(target[column]*(180/math.pi), range=xlim*(180/math.pi), **hist_settings)\n",
        "          plt.title(column)\n",
        "\n",
        "        else:\n",
        "          plt.hist(original[column], weights=new_original_weights, range=xlim, **hist_settings)\n",
        "          plt.hist(target[column], range=xlim, **hist_settings)\n",
        "          plt.title(column)\n",
        "\n",
        "\n",
        "        if evaluation_method == 'ks':\n",
        "          print('KS over ', column, ' = ', ks_2samp_weighted(original[column], target[column], \n",
        "                                          weights1=new_original_weights, weights2=np.ones(len(target), dtype=float)))\n",
        "        elif evaluation_method == 'kl':\n",
        "          target_hist = np.histogram(target[column],density=True,bins=20)\n",
        "          original_hist = np.histogram(original[column],density=True,weights=new_original_weights,bins=20)\n",
        "\n",
        "          print('KL over ', column, ' = ', entropy(original_hist,target_hist))\n",
        "\n",
        "        \n",
        "def averageKS(original, target, weights):\n",
        "  '''\n",
        "  Averages the KS value for all the variables in a data set after applying weights\n",
        "\n",
        "  original(DataFrame): original collisions\n",
        "  target(DataFrame): target collisions\n",
        "  weights(array): weights for the original data\n",
        "  '''\n",
        "\n",
        "  nColumns = len(original.columns)\n",
        "  total = 0\n",
        "\n",
        "  for column in original.columns:\n",
        "\n",
        "    total += ks_2samp_weighted(original[column], target[column], \n",
        "                                         weights1=weights, weights2=np.ones(len(target), dtype=float))\n",
        "\n",
        "  return(total/nColumns)\n",
        "\n",
        "\n",
        "print(\"Functions Loaded\")"
      ],
      "execution_count": null,
      "outputs": [
        {
          "output_type": "stream",
          "text": [
            "Functions Loaded\n"
          ],
          "name": "stdout"
        }
      ]
    },
    {
      "cell_type": "markdown",
      "metadata": {
        "id": "9OSSMk4BdrhC",
        "colab_type": "text"
      },
      "source": [
        "# Generate Colisions"
      ]
    },
    {
      "cell_type": "code",
      "metadata": {
        "id": "n-CDSTIwdyG8",
        "colab_type": "code",
        "colab": {
          "base_uri": "https://localhost:8080/",
          "height": 36
        },
        "outputId": "3cdf2527-631a-4bab-9129-c4509c04936c"
      },
      "source": [
        "#Store all data sets in one array, column 0 is original data, column 1 is the corresponding target data set\n",
        "sets = 8 #Number of original/target data sets to generate\n",
        "collisionCount = 80000\n",
        "\n",
        "allCollisions = np.empty((sets,2),dtype=object)\n",
        "\n",
        "#Create some data sets so ks and kl values can be averaged (allCollisions is a big boy)\n",
        "startTime = time.time()\n",
        "\n",
        "for i in range(sets):\n",
        "  #Original set\n",
        "  allCollisions[i,0] = generateCollisions(collisionCount,1,1,2,2,6,0.25,0.1,0.85,'linear',0.11)\n",
        "\n",
        "  #Target set\n",
        "  allCollisions[i,1] = generateCollisions(collisionCount,1,1,2,2,6,0.1,0.05,0.6,'quadratic',0.1)\n",
        "\n",
        "\n",
        "endTime = time.time()\n",
        "print(\"Data generation Time: \" + str(round(endTime - startTime)) + \" s\")"
      ],
      "execution_count": null,
      "outputs": [
        {
          "output_type": "stream",
          "text": [
            "Data generation Time: 439 s\n"
          ],
          "name": "stdout"
        }
      ]
    },
    {
      "cell_type": "code",
      "metadata": {
        "id": "HDAtiYlMeIHm",
        "colab_type": "code",
        "colab": {}
      },
      "source": [
        "#Split data into training and testing parts, don't include the lorentzVectors in the data\n",
        "\n",
        "original_test = np.empty(sets,dtype=object)\n",
        "original_train = np.empty(sets,dtype=object)\n",
        "target_test = np.empty(sets,dtype=object)\n",
        "target_train = np.empty(sets,dtype=object)\n",
        "\n",
        "original_weights_test = np.empty(sets,dtype=object)\n",
        "original_weights_train = np.empty(sets,dtype=object)\n",
        "\n",
        "for i in range(sets):\n",
        "\n",
        "  original_train[i], original_test[i] = train_test_split(allCollisions[i,0].drop(['p3','p4','p3_phi','p4_phi'], axis=1))\n",
        "  target_train[i], target_test[i] = train_test_split(allCollisions[i,1].drop(['p3','p4','p3_phi','p4_phi'], axis=1))\n",
        "\n",
        "  original_weights_train[i] = np.ones(len(original_train[i]))\n",
        "  original_weights_test[i] = np.ones(len(original_test[i]))\n"
      ],
      "execution_count": null,
      "outputs": []
    },
    {
      "cell_type": "code",
      "metadata": {
        "id": "lVcBfRxDeLUu",
        "colab_type": "code",
        "colab": {
          "base_uri": "https://localhost:8080/",
          "height": 631
        },
        "outputId": "3a17fab9-5c85-4aa9-e690-0af4dfd1d2a7"
      },
      "source": [
        "#Plot an unweighted data set\n",
        "original_weights = np.ones(len(allCollisions[0,0].index))\n",
        "\n",
        "#Don't plot phi, it's not affected by any of the changes made to the data\n",
        "columns=['p3_momentum','p4_momentum','p3_energy','p4_energy', 'p3_theta', 'p4_theta']\n",
        "draw_distributions(allCollisions[0,0], allCollisions[0,1], original_weights)\n",
        "\n",
        "print('Averaged KS values: ' + str(averageKS(original_test[1], target_test[1],np.ones(len(original_test[1])))))"
      ],
      "execution_count": null,
      "outputs": [
        {
          "output_type": "stream",
          "text": [
            "KS over  p3_momentum  =  0.05717843017353763\n",
            "KS over  p4_momentum  =  0.056298295909234186\n",
            "KS over  p3_energy  =  0.028734467582701262\n",
            "KS over  p4_energy  =  0.026133759866304285\n",
            "KS over  p3_theta  =  0.024265691278359647\n",
            "KS over  p4_theta  =  0.025244362503295203\n",
            "Averaged KS values: 0.03813021408067622\n"
          ],
          "name": "stdout"
        },
        {
          "output_type": "display_data",
          "data": {
            "image/png": "[encoded data removed]",
            "text/plain": [
              "<Figure size 1080x576 with 6 Axes>"
            ]
          },
          "metadata": {
            "tags": []
          }
        }
      ]
    },
    {
      "cell_type": "markdown",
      "metadata": {
        "id": "r5y2yKa9ePX4",
        "colab_type": "text"
      },
      "source": [
        "#Naive Reweighter\n"
      ]
    },
    {
      "cell_type": "code",
      "metadata": {
        "id": "UjpYoIZTeOCc",
        "colab_type": "code",
        "colab": {
          "base_uri": "https://localhost:8080/",
          "height": 612
        },
        "outputId": "eadefb3d-6d27-4b9b-8105-89a16ce4283e"
      },
      "source": [
        "#naive bin reweighter\n",
        "#reweights only based on one variable (p3 momentum)\n",
        "#Weight of each collision is entirely based off which bin it's p3 momentum falls into\n",
        "reweight_bins = 50\n",
        "bins_weights_test = np.empty(sets,dtype=object)\n",
        "for i in range(sets):\n",
        "  #Need bin edges for original set to apply weights to test data\n",
        "  original_bins,bin_edges = np.histogram(original_train[i]['p3_momentum'], reweight_bins, density = False)\n",
        "  target_bins = np.histogram(target_train[i]['p3_momentum'], density = False, bins = bin_edges)[0]\n",
        "\n",
        "  #Add noise to prevent divisions by 0, counts are high enough that this has negligible effect\n",
        "  original_bins = np.add(original_bins,1)\n",
        "  target_bins = np.add(target_bins,1)\n",
        "\n",
        "  #Convert histograms to probability density\n",
        "  original_bins_normed = np.divide(original_bins, len(original_train[i].index))\n",
        "  target_bins_normed = np.divide(target_bins, len(target_train[i].index))\n",
        "\n",
        "\n",
        "  bin_weights = np.zeros(reweight_bins)\n",
        "\n",
        "  #Calculate weights to match p3 momentum bins up (build model)\n",
        "  for j in range(reweight_bins):\n",
        "    bin_weights[j] = target_bins_normed[j] / original_bins_normed[j]\n",
        "\n",
        "  #Apply the model to test data\n",
        "  #find out what bin a point is in (use np.digitize here?)\n",
        "  multi_factor = (reweight_bins-1) / max(original_test[i]['p3_momentum'])\n",
        "  momentum_multi = original_test[i]['p3_momentum'] * multi_factor\n",
        "  momentum_floored = momentum_multi.astype(int)\n",
        "  #give a weight to each individual collision based on which bin it's in\n",
        "  collision_weights = np.empty(len(momentum_floored))\n",
        "  m = 0 \n",
        "  for k in momentum_floored:\n",
        "    collision_weights[m] = bin_weights[k]\n",
        "    m += 1\n",
        "\n",
        "  bins_weights_test[i] = collision_weights\n",
        "    \n",
        "#draw the histograms\n",
        "draw_distributions(original_test[0], target_test[0], bins_weights_test[0])\n",
        "\n"
      ],
      "execution_count": null,
      "outputs": [
        {
          "output_type": "stream",
          "text": [
            "KS over  p3_momentum  =  0.030439511722172186\n",
            "KS over  p4_momentum  =  0.05109341083383445\n",
            "KS over  p3_energy  =  0.023607424421501766\n",
            "KS over  p4_energy  =  0.02387158793004973\n",
            "KS over  p3_theta  =  0.021323185827064273\n",
            "KS over  p4_theta  =  0.028634581518394552\n"
          ],
          "name": "stdout"
        },
        {
          "output_type": "display_data",
          "data": {
            "image/png": "[encoded data removed]",
            "text/plain": [
              "<Figure size 1080x576 with 6 Axes>"
            ]
          },
          "metadata": {
            "tags": []
          }
        }
      ]
    },
    {
      "cell_type": "markdown",
      "metadata": {
        "id": "ygW8NSbVeUZm",
        "colab_type": "text"
      },
      "source": [
        "# Neural Network Reweighters"
      ]
    },
    {
      "cell_type": "code",
      "metadata": {
        "id": "M8oiByQ5eYCm",
        "colab_type": "code",
        "colab": {
          "base_uri": "https://localhost:8080/",
          "height": 886
        },
        "outputId": "4b37ea09-5712-4bf8-fa6c-0732e1508787"
      },
      "source": [
        "#Use MLP classifier to see if data is from the real set or the generated set\n",
        "\n",
        "testCollisions = np.empty(sets,dtype=object)\n",
        "trainCollisions = np.empty(sets,dtype=object)\n",
        "trainLabels = np.empty(sets,dtype=object)\n",
        "testLabels = np.empty(sets,dtype=object)\n",
        "\n",
        "baseProba = np.empty(sets,dtype=object)\n",
        "lbfgsProba = np.empty(sets,dtype=object)\n",
        "adaProba = np.empty(sets,dtype=object)\n",
        "sgdProba = np.empty(sets,dtype=object)\n",
        "\n",
        "\n",
        "startTime = time.time()\n",
        "for i in range(sets):\n",
        "\n",
        "  #Join real and generated data togehter\n",
        "  trainCollisions[i] = pd.concat([original_train[i],target_train[i]],ignore_index=True)\n",
        "\n",
        "  testCollisions[i] = pd.concat([original_test[i],target_test[i]],ignore_index=True)\n",
        "\n",
        "\n",
        "  #label is 1 for real data, 0 for random data \n",
        "  trainLabels[i] = np.concatenate((np.zeros(len(original_train[i].index)),np.ones(len(target_train[i].index))))\n",
        "  testLabels[i] = np.concatenate((np.zeros(len(original_test[i].index)),np.ones(len(target_test[i].index))))\n",
        "\n",
        "  #Uses adam solver by default, deep nn\n",
        "  base_network = MLPClassifier(max_iter=1000,hidden_layer_sizes=(24,18,12,6)) #layers=[7, 7],loss='log_loss', trainer='irprop-', epochs=1000\n",
        "  base_network.fit(trainCollisions[i], trainLabels[i])\n",
        "\n",
        "  #Stores the probability that a collision belongs to the generated set in column 0 and to the real set in column 1\n",
        "  baseProba[i] = base_network.predict_proba(original_test[i])\n",
        "\n",
        "endTime = time.time()\n",
        "\n",
        "print(\"Base Network Execution Time: \" + str(endTime - startTime))\n",
        "\n",
        "#A different weight optimisation solver\n",
        "startTime = time.time()\n",
        "for j in range(sets):\n",
        "\n",
        "\n",
        "  lbfgs_network = MLPClassifier(max_iter=1000,solver='lbfgs',hidden_layer_sizes=(24,18,12,6)) #try solver sgd here?\n",
        "  lbfgs_network.fit(trainCollisions[j], trainLabels[j])\n",
        "\n",
        "  lbfgsProba[j] = lbfgs_network.predict_proba(original_test[j])\n",
        "\n",
        "\n",
        "endTime = time.time()\n",
        "print(\"lbfgs Network Execution Time: \" + str(endTime - startTime))\n",
        "\n",
        "\n",
        "#Shallow adam solver\n",
        "startTime = time.time()\n",
        "for j in range(sets):\n",
        "  sgd_network = MLPClassifier(max_iter=1000,hidden_layer_sizes=(8,8)) \n",
        "  sgd_network.fit(trainCollisions[j], trainLabels[j])\n",
        "\n",
        "  sgdProba[j] = sgd_network.predict_proba(original_test[j])\n",
        "\n",
        "\n",
        "endTime = time.time()\n",
        "print(\"SGD Network Execution Time: \" + str(endTime - startTime))\n",
        "\n",
        "\n"
      ],
      "execution_count": null,
      "outputs": [
        {
          "output_type": "stream",
          "text": [
            "Base Network Execution Time: 761.2465088367462\n"
          ],
          "name": "stdout"
        },
        {
          "output_type": "stream",
          "text": [
            "/usr/local/lib/python3.6/dist-packages/sklearn/neural_network/_multilayer_perceptron.py:470: ConvergenceWarning: lbfgs failed to converge (status=1):\n",
            "STOP: TOTAL NO. of ITERATIONS REACHED LIMIT.\n",
            "\n",
            "Increase the number of iterations (max_iter) or scale the data as shown in:\n",
            "    https://scikit-learn.org/stable/modules/preprocessing.html\n",
            "  self.n_iter_ = _check_optimize_result(\"lbfgs\", opt_res, self.max_iter)\n",
            "/usr/local/lib/python3.6/dist-packages/sklearn/neural_network/_multilayer_perceptron.py:470: ConvergenceWarning: lbfgs failed to converge (status=1):\n",
            "STOP: TOTAL NO. of ITERATIONS REACHED LIMIT.\n",
            "\n",
            "Increase the number of iterations (max_iter) or scale the data as shown in:\n",
            "    https://scikit-learn.org/stable/modules/preprocessing.html\n",
            "  self.n_iter_ = _check_optimize_result(\"lbfgs\", opt_res, self.max_iter)\n",
            "/usr/local/lib/python3.6/dist-packages/sklearn/neural_network/_multilayer_perceptron.py:470: ConvergenceWarning: lbfgs failed to converge (status=1):\n",
            "STOP: TOTAL NO. of ITERATIONS REACHED LIMIT.\n",
            "\n",
            "Increase the number of iterations (max_iter) or scale the data as shown in:\n",
            "    https://scikit-learn.org/stable/modules/preprocessing.html\n",
            "  self.n_iter_ = _check_optimize_result(\"lbfgs\", opt_res, self.max_iter)\n",
            "/usr/local/lib/python3.6/dist-packages/sklearn/neural_network/_multilayer_perceptron.py:470: ConvergenceWarning: lbfgs failed to converge (status=1):\n",
            "STOP: TOTAL NO. of ITERATIONS REACHED LIMIT.\n",
            "\n",
            "Increase the number of iterations (max_iter) or scale the data as shown in:\n",
            "    https://scikit-learn.org/stable/modules/preprocessing.html\n",
            "  self.n_iter_ = _check_optimize_result(\"lbfgs\", opt_res, self.max_iter)\n",
            "/usr/local/lib/python3.6/dist-packages/sklearn/neural_network/_multilayer_perceptron.py:470: ConvergenceWarning: lbfgs failed to converge (status=1):\n",
            "STOP: TOTAL NO. of ITERATIONS REACHED LIMIT.\n",
            "\n",
            "Increase the number of iterations (max_iter) or scale the data as shown in:\n",
            "    https://scikit-learn.org/stable/modules/preprocessing.html\n",
            "  self.n_iter_ = _check_optimize_result(\"lbfgs\", opt_res, self.max_iter)\n",
            "/usr/local/lib/python3.6/dist-packages/sklearn/neural_network/_multilayer_perceptron.py:470: ConvergenceWarning: lbfgs failed to converge (status=1):\n",
            "STOP: TOTAL NO. of ITERATIONS REACHED LIMIT.\n",
            "\n",
            "Increase the number of iterations (max_iter) or scale the data as shown in:\n",
            "    https://scikit-learn.org/stable/modules/preprocessing.html\n",
            "  self.n_iter_ = _check_optimize_result(\"lbfgs\", opt_res, self.max_iter)\n",
            "/usr/local/lib/python3.6/dist-packages/sklearn/neural_network/_multilayer_perceptron.py:470: ConvergenceWarning: lbfgs failed to converge (status=1):\n",
            "STOP: TOTAL NO. of ITERATIONS REACHED LIMIT.\n",
            "\n",
            "Increase the number of iterations (max_iter) or scale the data as shown in:\n",
            "    https://scikit-learn.org/stable/modules/preprocessing.html\n",
            "  self.n_iter_ = _check_optimize_result(\"lbfgs\", opt_res, self.max_iter)\n"
          ],
          "name": "stderr"
        },
        {
          "output_type": "stream",
          "text": [
            "lbfgs Network Execution Time: 1542.2231893539429\n",
            "SGD Network Execution Time: 566.2734496593475\n"
          ],
          "name": "stdout"
        }
      ]
    },
    {
      "cell_type": "markdown",
      "metadata": {
        "id": "rj9JQcfGef3p",
        "colab_type": "text"
      },
      "source": [
        "# Ada Boost Reweighter"
      ]
    },
    {
      "cell_type": "code",
      "metadata": {
        "id": "YFHWnhZSehwo",
        "colab_type": "code",
        "colab": {
          "base_uri": "https://localhost:8080/",
          "height": 36
        },
        "outputId": "391af9dc-d23c-425c-e80d-708bdfc1799b"
      },
      "source": [
        "#Different type of classifier\n",
        "startTime = time.time()\n",
        "for k in range(sets):\n",
        "\n",
        "  adaClassifier = AdaBoostClassifier(base_estimator=DecisionTreeClassifier())\n",
        "\n",
        "  adaClassifier.fit(trainCollisions[k], trainLabels[k])\n",
        "\n",
        "  adaProba[k] = adaClassifier.predict_proba(original_test[k])\n",
        "\n",
        "endTime = time.time()\n",
        "print(\"Ada Classifier Execution Time: \" + str(endTime - startTime))"
      ],
      "execution_count": null,
      "outputs": [
        {
          "output_type": "stream",
          "text": [
            "Ada Classifier Execution Time: 30.11054825782776\n"
          ],
          "name": "stdout"
        }
      ]
    },
    {
      "cell_type": "code",
      "metadata": {
        "id": "h8Duj14xepXW",
        "colab_type": "code",
        "colab": {}
      },
      "source": [
        "#Calculate weights here\n",
        "\n",
        "weightBase = np.zeros(sets,dtype=object)\n",
        "weightLbfgs = np.zeros(sets,dtype=object)\n",
        "weightAda = np.zeros(sets,dtype=object)\n",
        "weightSgd = np.zeros(sets,dtype=object)\n",
        "\n",
        "\n",
        "\n",
        "#Calculate weights from neural network probabilities\n",
        "for i in range(sets):\n",
        "\n",
        "  weightBase[i] = probabilityToWeight(baseProba[i][:,1])\n",
        "  weightLbfgs[i] = probabilityToWeight(lbfgsProba[i][:,1])\n",
        "  weightAda[i] = probabilityToWeightAda(adaProba[i][:,1])\n",
        "  weightSgd[i] = probabilityToWeight(sgdProba[i][:,1])\n",
        "  \n",
        "\n",
        "\n"
      ],
      "execution_count": null,
      "outputs": []
    },
    {
      "cell_type": "markdown",
      "metadata": {
        "id": "X-mf0ih2evP6",
        "colab_type": "text"
      },
      "source": [
        "# Gradient Boosting Reweighter"
      ]
    },
    {
      "cell_type": "code",
      "metadata": {
        "id": "a1HDWWoTexuF",
        "colab_type": "code",
        "colab": {
          "base_uri": "https://localhost:8080/",
          "height": 612
        },
        "outputId": "f7953d7b-bf4d-467f-e412-474a53195e00"
      },
      "source": [
        "#Gradient boosted reweighter\n",
        "gb_weights_test = np.empty(sets,dtype=object)\n",
        "\n",
        "for i in range(sets):\n",
        "\n",
        "  #Can mess with these paramaters to optimse performance\n",
        "  gb_reweighter = reweight.GBReweighter(n_estimators=100, \n",
        "                                        learning_rate=0.1, max_depth=32, min_samples_leaf=500, \n",
        "                                        gb_args={'subsample': 0.4, 'max_features' : 6, 'min_samples_split' : 201})\n",
        "  gb_reweighter.fit(original_train[i], target_train[i])\n",
        "\n",
        "  gb_weights_test[i] = gb_reweighter.predict_weights(original_test[i])\n",
        "\n",
        "#Check weighted distributions on the test splits\n",
        "draw_distributions(original_test[1], target_test[1], gb_weights_test[1])\n"
      ],
      "execution_count": null,
      "outputs": [
        {
          "output_type": "stream",
          "text": [
            "KS over  p3_momentum  =  0.013114303381804193\n",
            "KS over  p4_momentum  =  0.011864998552122308\n",
            "KS over  p3_energy  =  0.01457782370888544\n",
            "KS over  p4_energy  =  0.013183784036722768\n",
            "KS over  p3_theta  =  0.01289299984003367\n",
            "KS over  p4_theta  =  0.010961115200898153\n"
          ],
          "name": "stdout"
        },
        {
          "output_type": "display_data",
          "data": {
            "image/png": "[encoded data removed]",
            "text/plain": [
              "<Figure size 1080x576 with 6 Axes>"
            ]
          },
          "metadata": {
            "tags": []
          }
        }
      ]
    },
    {
      "cell_type": "code",
      "metadata": {
        "id": "VEmMOkVKezVn",
        "colab_type": "code",
        "colab": {
          "base_uri": "https://localhost:8080/",
          "height": 763
        },
        "outputId": "a8759940-50f4-4951-9b54-76dfbab4a787"
      },
      "source": [
        "#Folding Reweighter\n",
        "folding_weights = np.empty(sets,dtype=object)\n",
        "\n",
        "for i in range(sets):\n",
        "  #Gradient boosted decision tree as base\n",
        "  reweighter_gb = reweight.GBReweighter(  learning_rate=0.1, n_estimators=64, max_depth=32, min_samples_leaf=200, \n",
        "                                        gb_args={'subsample': 0.4,})\n",
        "  folding_gb = reweight.FoldingReweighter(reweighter_gb, n_folds=5)\n",
        "  \n",
        "  #Give full datasets to the reweighter\n",
        "  folding_gb.fit(allCollisions[i,0].drop(['p3','p4','p3_phi','p4_phi'], axis=1).to_numpy().tolist(), allCollisions[i,1].drop(['p3','p4','p3_phi','p4_phi'], axis=1).to_numpy().tolist())\n",
        "\n",
        "\n",
        "  #folding_weights[i] = folding_reweighter.predict_weights(allCollisions[i,0].drop(['p3','p4','p3_phi','p4_phi'], axis=1).to_numpy().tolist(),vote_function = lambda x: np.mean(x, axis=0))\n",
        "\n",
        "  #calculate weights for each point\n",
        "  folding_weights[i] = folding_gb.predict_weights(allCollisions[i,0].drop(['p3','p4','p3_phi','p4_phi'], axis=1).to_numpy().tolist())\n",
        "\n",
        "\n",
        "\n",
        "draw_distributions(allCollisions[0,0], allCollisions[0,1], folding_weights[0])\n"
      ],
      "execution_count": null,
      "outputs": [
        {
          "output_type": "stream",
          "text": [
            "KFold prediction using folds column\n",
            "KFold prediction using folds column\n",
            "KFold prediction using folds column\n",
            "KFold prediction using folds column\n",
            "KFold prediction using folds column\n",
            "KFold prediction using folds column\n",
            "KFold prediction using folds column\n",
            "KFold prediction using folds column\n",
            "KS over  p3_momentum  =  0.003164763237457846\n",
            "KS over  p4_momentum  =  0.002669111097023835\n",
            "KS over  p3_energy  =  0.003500179836663203\n",
            "KS over  p4_energy  =  0.003431673100844468\n",
            "KS over  p3_theta  =  0.00582885938912403\n",
            "KS over  p4_theta  =  0.005974477394330935\n"
          ],
          "name": "stdout"
        },
        {
          "output_type": "display_data",
          "data": {
            "image/png": "[encoded data removed]",
            "text/plain": [
              "<Figure size 1080x576 with 6 Axes>"
            ]
          },
          "metadata": {
            "tags": []
          }
        }
      ]
    },
    {
      "cell_type": "markdown",
      "metadata": {
        "id": "3KYwoCKQe5oJ",
        "colab_type": "text"
      },
      "source": [
        "# Model Evaluation"
      ]
    },
    {
      "cell_type": "code",
      "metadata": {
        "id": "NGfkRXmwe7t9",
        "colab_type": "code",
        "colab": {}
      },
      "source": [
        "#Find KS values for reweighted data, calculate KS for each variable then average over this\n",
        "\n",
        "noWeightTotal = np.zeros(sets)\n",
        "binTotal = np.zeros(sets)\n",
        "gbTotal = np.zeros(sets)\n",
        "foldingTotal = np.zeros(sets)\n",
        "nnTotal = np.zeros(sets)\n",
        "adaTotal = np.zeros(sets)\n",
        "lbfgsTotal = np.zeros(sets)\n",
        "sgdTotal = np.zeros(sets)\n",
        "\n",
        "for i in range(sets):\n",
        "\n",
        "  noWeightTotal[i] += averageKS(original_test[i], target_test[i],np.ones(len(original_test[i])))\n",
        "\n",
        "  binTotal[i] += averageKS(original_test[i], target_test[i],bins_weights_test[i])\n",
        "  gbTotal[i] += averageKS(original_test[i], target_test[i],gb_weights_test[i])\n",
        "  foldingTotal[i] += averageKS(allCollisions[i,0].drop(['p3','p4','p3_phi','p4_phi'], axis=1), allCollisions[i,1].drop(['p3','p4','p3_phi','p4_phi'], axis=1), folding_weights[i])\n",
        "\n",
        "  nnTotal[i] += averageKS(original_test[i], target_test[i],weightBase[i])\n",
        "  lbfgsTotal[i] += averageKS(original_test[i], target_test[i],weightLbfgs[i])\n",
        "  adaTotal[i] += averageKS(original_test[i], target_test[i],weightAda[i])\n",
        "  sgdTotal[i] += averageKS(original_test[i], target_test[i],weightSgd[i])\n"
      ],
      "execution_count": null,
      "outputs": []
    },
    {
      "cell_type": "code",
      "metadata": {
        "id": "uUmGlBelfBOO",
        "colab_type": "code",
        "colab": {
          "base_uri": "https://localhost:8080/",
          "height": 584
        },
        "outputId": "5d2a1e2e-9eb9-4080-8055-d906e7262548"
      },
      "source": [
        "fig, ax = plt.subplots()\n",
        "bp = ax.boxplot([noWeightTotal, binTotal, gbTotal, foldingTotal, adaTotal, nnTotal, sgdTotal, lbfgsTotal],notch=False,sym='',showmeans=1)\n",
        "ax.set_ylim(bottom=0)\n",
        "ax.set_xticklabels(['No Weights','Bin Reweighting','Gradient Boost','Folding GB','Ada Boost','Deep Adam NN','Adam NN','lbfgs NN'],rotation=45, fontsize=12)\n",
        "ax.set_ylabel('KS Value')\n",
        "ax.set_xlabel('Reweighting Method')"
      ],
      "execution_count": null,
      "outputs": [
        {
          "output_type": "execute_result",
          "data": {
            "text/plain": [
              "Text(0.5, 0, 'Reweighting Method')"
            ]
          },
          "metadata": {
            "tags": []
          },
          "execution_count": 16
        },
        {
          "output_type": "display_data",
          "data": {
            "image/png": "[encoded data removed]",
            "text/plain": [
              "<Figure size 720x576 with 1 Axes>"
            ]
          },
          "metadata": {
            "tags": []
          }
        }
      ]
    },
    {
      "cell_type": "code",
      "metadata": {
        "id": "xYBY7dXjfHDN",
        "colab_type": "code",
        "colab": {}
      },
      "source": [
        "#Number of bins to calculate kl divergence over\n",
        "kl_bins = 40\n",
        "\n",
        "noWeightTotal_KL = np.zeros(sets)\n",
        "binTotal_KL = np.zeros(sets)\n",
        "gbTotal_KL = np.zeros(sets)\n",
        "foldingTotal_KL = np.zeros(sets)\n",
        "nnTotal_KL = np.zeros(sets)\n",
        "adaTotal_KL = np.zeros(sets)\n",
        "lbfgsTotal_KL = np.zeros(sets)\n",
        "sgdTotal_KL = np.zeros(sets)\n",
        "\n",
        "noWeight_kl = np.zeros(sets)\n",
        "bin_kl = np.zeros(sets)\n",
        "gb_kl = np.zeros(sets)\n",
        "folding_kl = np.zeros(sets)\n",
        "nn_kl = np.zeros(sets)\n",
        "ada_kl = np.zeros(sets)\n",
        "lbfgs_kl = np.zeros(sets)\n",
        "sgd_kl = np.zeros(sets)\n",
        "\n",
        "#Store ranges in a dict\n",
        "ranges = {\"p3_momentum\" : (1,8), \"p4_momentum\" : (1,8), \"p3_energy\" : (1,8),\"p4_energy\" : (1,8), \"p3_theta\" : (1,2.2), \"p4_theta\" : (1,2.2)}\n",
        "\n",
        "#Create lists of dicts to hold the histograms for each dimension of each data set\n",
        "target_density_hists = [dict(p3_momentum = np.zeros(kl_bins), p4_momentum = np.zeros(kl_bins), p3_energy = np.zeros(kl_bins), p4_energy = np.zeros(kl_bins), p3_theta = np.zeros(kl_bins), p4_theta = np.zeros(kl_bins)) for x in range(sets)]\n",
        "noWeight_density_hists = [dict(p3_momentum = np.zeros(kl_bins), p4_momentum = np.zeros(kl_bins), p3_energy = np.zeros(kl_bins), p4_energy = np.zeros(kl_bins), p3_theta = np.zeros(kl_bins), p4_theta = np.zeros(kl_bins)) for x in range(sets)]\n",
        "bin_density_hists = [dict(p3_momentum = np.zeros(kl_bins), p4_momentum = np.zeros(kl_bins), p3_energy = np.zeros(kl_bins), p4_energy = np.zeros(kl_bins), p3_theta = np.zeros(kl_bins), p4_theta = np.zeros(kl_bins)) for x in range(sets)]\n",
        "gb_density_hists = [dict(p3_momentum = np.zeros(kl_bins), p4_momentum = np.zeros(kl_bins), p3_energy = np.zeros(kl_bins), p4_energy = np.zeros(kl_bins), p3_theta = np.zeros(kl_bins), p4_theta = np.zeros(kl_bins)) for x in range(sets)]\n",
        "folding_density_hists = [dict(p3_momentum = np.zeros(kl_bins), p4_momentum = np.zeros(kl_bins), p3_energy = np.zeros(kl_bins), p4_energy = np.zeros(kl_bins), p3_theta = np.zeros(kl_bins), p4_theta = np.zeros(kl_bins)) for x in range(sets)]\n",
        "nn_density_hists = [dict(p3_momentum = np.zeros(kl_bins), p4_momentum = np.zeros(kl_bins), p3_energy = np.zeros(kl_bins), p4_energy = np.zeros(kl_bins), p3_theta = np.zeros(kl_bins), p4_theta = np.zeros(kl_bins)) for x in range(sets)]\n",
        "ada_density_hists = [dict(p3_momentum = np.zeros(kl_bins), p4_momentum = np.zeros(kl_bins), p3_energy = np.zeros(kl_bins), p4_energy = np.zeros(kl_bins), p3_theta = np.zeros(kl_bins), p4_theta = np.zeros(kl_bins)) for x in range(sets)]\n",
        "lbfgs_density_hists = [dict(p3_momentum = np.zeros(kl_bins), p4_momentum = np.zeros(kl_bins), p3_energy = np.zeros(kl_bins), p4_energy = np.zeros(kl_bins), p3_theta = np.zeros(kl_bins), p4_theta = np.zeros(kl_bins)) for x in range(sets)]\n",
        "sgd_density_hists = [dict(p3_momentum = np.zeros(kl_bins), p4_momentum = np.zeros(kl_bins), p3_energy = np.zeros(kl_bins), p4_energy = np.zeros(kl_bins), p3_theta = np.zeros(kl_bins), p4_theta = np.zeros(kl_bins)) for x in range(sets)]\n",
        "\n",
        "#Calculate normalised histograms for each dimension in each data set\n",
        "for i in range(sets):\n",
        "\n",
        "  original_test_set = original_test[i]\n",
        "  target_test_set = target_test[i]\n",
        "\n",
        "  for column in original_test[i].columns:\n",
        "    target_density_hists[i][column] = np.histogram(target_test_set[column],density=0,bins=kl_bins,range=ranges[column])[0]\n",
        "    noWeight_density_hists[i][column] = np.histogram(original_test_set[column],density=0,bins=kl_bins,range=ranges[column])[0]\n",
        "    bin_density_hists[i][column] = np.histogram(original_test_set[column],weights=bins_weights_test[i],density=0,bins=kl_bins,range=ranges[column])[0]\n",
        "    gb_density_hists[i][column] = np.histogram(original_test_set[column],weights=gb_weights_test[i],density=0,bins=kl_bins,range=ranges[column])[0]\n",
        "    folding_density_hists[i][column] = np.histogram(allCollisions[i,0].drop(['p3','p4','p3_phi','p4_phi'], axis=1)[column],weights=folding_weights[i],density=0,bins=kl_bins,range=ranges[column])[0]\n",
        "    nn_density_hists[i][column] = np.histogram(original_test_set[column],weights=weightBase[i],density=0,bins=kl_bins,range=ranges[column])[0]\n",
        "    ada_density_hists[i][column] = np.histogram(original_test_set[column],weights=weightAda[i],density=0,bins=kl_bins,range=ranges[column])[0]\n",
        "    lbfgs_density_hists[i][column] = np.histogram(original_test_set[column],weights=weightLbfgs[i],density=0,bins=kl_bins,range=ranges[column])[0]\n",
        "    sgd_density_hists[i][column] = np.histogram(original_test_set[column],weights=weightSgd[i],density=0,bins=kl_bins,range=ranges[column])[0]\n",
        "\n",
        "\n",
        "    #Make sure there are no bins with 0 counts\n",
        "    #To prevent infinity errors when computing KL divergence, 1 count is small enough that it will hardly effect the overall outcome\n",
        "    #Put this in a function?\n",
        "    target_density_hists[i][column][target_density_hists[i][column] == 0] = 1\n",
        "    noWeight_density_hists[i][column][noWeight_density_hists[i][column] == 0] = 1\n",
        "    bin_density_hists[i][column][bin_density_hists[i][column] == 0] = 1\n",
        "    gb_density_hists[i][column][gb_density_hists[i][column] == 0] = 1\n",
        "    folding_density_hists[i][column][folding_density_hists[i][column] == 0] = 1\n",
        "    nn_density_hists[i][column][nn_density_hists[i][column] == 0] = 1\n",
        "    ada_density_hists[i][column][ada_density_hists[i][column] == 0] = 1\n",
        "    lbfgs_density_hists[i][column][lbfgs_density_hists[i][column] == 0] = 1\n",
        "    sgd_density_hists[i][column][sgd_density_hists[i][column] == 0] = 1\n",
        "\n",
        "    #Write a normalisation function to neaten this up\n",
        "    target_density_hists[i][column] = target_density_hists[i][column]/np.sum(target_density_hists[i][column])\n",
        "    noWeight_density_hists[i][column] = noWeight_density_hists[i][column]/np.sum(noWeight_density_hists[i][column])\n",
        "    bin_density_hists[i][column] = bin_density_hists[i][column]/np.sum(bin_density_hists[i][column])\n",
        "    gb_density_hists[i][column] = gb_density_hists[i][column]/np.sum(gb_density_hists[i][column])\n",
        "    folding_density_hists[i][column] = folding_density_hists[i][column]/np.sum(folding_density_hists[i][column])\n",
        "    nn_density_hists[i][column] = nn_density_hists[i][column]/np.sum(nn_density_hists[i][column])\n",
        "    ada_density_hists[i][column] = ada_density_hists[i][column]/np.sum(ada_density_hists[i][column])\n",
        "    lbfgs_density_hists[i][column] = lbfgs_density_hists[i][column]/np.sum(lbfgs_density_hists[i][column])\n",
        "    sgd_density_hists[i][column] = sgd_density_hists[i][column]/np.sum(sgd_density_hists[i][column])\n",
        "\n",
        "\n",
        "    #Add up KL divergences from each dimension for each weighting method\n",
        "    noWeightTotal_KL[i] += np.sum(rel_entr(target_density_hists[i][column],noWeight_density_hists[i][column]))\n",
        "    binTotal_KL[i] += np.sum(rel_entr(target_density_hists[i][column],bin_density_hists[i][column]))\n",
        "    gbTotal_KL[i] += np.sum(rel_entr(target_density_hists[i][column],gb_density_hists[i][column]))\n",
        "    foldingTotal_KL[i] += np.sum(rel_entr(target_density_hists[i][column],folding_density_hists[i][column]))\n",
        "    nnTotal_KL[i] += np.sum(rel_entr(target_density_hists[i][column],nn_density_hists[i][column]))\n",
        "    adaTotal_KL[i] += np.sum(rel_entr(target_density_hists[i][column],ada_density_hists[i][column]))\n",
        "    lbfgsTotal_KL[i] += np.sum(rel_entr(target_density_hists[i][column],lbfgs_density_hists[i][column]))\n",
        "    sgdTotal_KL[i] += np.sum(rel_entr(target_density_hists[i][column],sgd_density_hists[i][column]))\n",
        "\n",
        "  #Then average them for each data set\n",
        "  #this is such a mess send help\n",
        "  noWeight_kl[i] = noWeightTotal_KL[i] / len(columns)\n",
        "  bin_kl[i] = binTotal_KL[i] / len(columns)\n",
        "  gb_kl[i] = gbTotal_KL[i] / len(columns)\n",
        "  folding_kl[i] = foldingTotal_KL[i] / len(columns)\n",
        "  nn_kl[i] = nnTotal_KL[i] / len(columns)\n",
        "  ada_kl[i] = adaTotal_KL[i] / len(columns)\n",
        "  lbfgs_kl[i] = lbfgsTotal_KL[i] / len(columns)\n",
        "  sgd_kl[i] = sgdTotal_KL[i] / len(columns)\n",
        "    \n",
        "    "
      ],
      "execution_count": null,
      "outputs": []
    },
    {
      "cell_type": "code",
      "metadata": {
        "id": "7B4KoytqfKVA",
        "colab_type": "code",
        "colab": {
          "base_uri": "https://localhost:8080/",
          "height": 584
        },
        "outputId": "70453dd4-dca9-4ce7-c340-1e0c5d5ff6b4"
      },
      "source": [
        "fig, ax = plt.subplots()\n",
        "bp = ax.boxplot([noWeight_kl,bin_kl,gb_kl,folding_kl,ada_kl,nn_kl,sgd_kl,lbfgs_kl],notch=False,sym='',showmeans=1)\n",
        "ax.set_ylim(bottom=0)\n",
        "ax.set_xticklabels(['No Weights','Bin Reweighting','Gradient Boost','Folding GB','Ada Boost','Deep Adam NN','Adam NN','lbfgs NN'],rotation=45, fontsize=12)\n",
        "ax.set_ylabel('KL Divergence')\n",
        "ax.set_xlabel('Reweighting Method')"
      ],
      "execution_count": null,
      "outputs": [
        {
          "output_type": "execute_result",
          "data": {
            "text/plain": [
              "Text(0.5, 0, 'Reweighting Method')"
            ]
          },
          "metadata": {
            "tags": []
          },
          "execution_count": 18
        },
        {
          "output_type": "display_data",
          "data": {
            "image/png": "[encoded data removed]",
            "text/plain": [
              "<Figure size 720x576 with 1 Axes>"
            ]
          },
          "metadata": {
            "tags": []
          }
        }
      ]
    }
  ]
}